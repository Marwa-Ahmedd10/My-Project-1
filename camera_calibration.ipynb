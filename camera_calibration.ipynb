{
  "cells": [
    {
      "cell_type": "code",
      "execution_count": 1,
      "metadata": {
        "colab": {
          "base_uri": "https://localhost:8080/"
        },
        "id": "B88VUnyRFH91",
        "outputId": "16fac097-128a-4e7f-dfaf-e1a27e3f5927"
      },
      "outputs": [
        {
          "name": "stdout",
          "output_type": "stream",
          "text": [
            "Requirement already satisfied: opencv-python in /opt/anaconda3/envs/face_env/lib/python3.10/site-packages (4.11.0)\n",
            "Note: you may need to restart the kernel to use updated packages.\n"
          ]
        }
      ],
      "source": [
        "%pip install opencv-python\n"
      ]
    },
    {
      "cell_type": "code",
      "execution_count": 10,
      "metadata": {
        "colab": {
          "base_uri": "https://localhost:8080/",
          "height": 746
        },
        "id": "NDcV08JIJUsC",
        "outputId": "2b773874-d37d-4e0c-e95c-4137986a92f4"
      },
      "outputs": [
        {
          "name": "stdout",
          "output_type": "stream",
          "text": [
            "Camera calibration complete and data saved.\n"
          ]
        }
      ],
      "source": [
        "import os\n",
        "import cv2\n",
        "import numpy as np\n",
        "import pickle\n",
        "\n",
        "# Path to the 'chessboard_images' folder on your Desktop (VS Code workspace path)\n",
        "data_path = 'chessboard_images'\n",
        "\n",
        "# Chessboard dimensions (number of inner corners per chessboard row and column)\n",
        "chessboard_size = (9, 6)  # Change this based on your chessboard size\n",
        "\n",
        "# Prepare object points (3D points in real world space)\n",
        "objp = np.zeros((chessboard_size[0] * chessboard_size[1], 3), np.float32)\n",
        "objp[:, :2] = np.mgrid[0:chessboard_size[0], 0:chessboard_size[1]].T.reshape(-1, 2)\n",
        "\n",
        "# Arrays to store object points and image points from all the images\n",
        "objpoints = []\n",
        "imgpoints = []\n",
        "\n",
        "# Read all images from the chessboard_images folder\n",
        "for img_name in os.listdir(data_path):\n",
        "    img_path = os.path.join(data_path, img_name)\n",
        "    img = cv2.imread(img_path)\n",
        "    \n",
        "    if img is None:\n",
        "        continue\n",
        "    \n",
        "    gray = cv2.cvtColor(img, cv2.COLOR_BGR2GRAY)\n",
        "    \n",
        "    # Find the chessboard corners\n",
        "    ret, corners = cv2.findChessboardCorners(gray, chessboard_size, None)\n",
        "    \n",
        "    if ret:\n",
        "        objpoints.append(objp)\n",
        "        imgpoints.append(corners)\n",
        "        \n",
        "        # Draw and display the corners on the image\n",
        "        cv2.drawChessboardCorners(img, chessboard_size, corners, ret)\n",
        "        cv2.imshow('Chessboard', img)\n",
        "        cv2.waitKey(500)  # Wait for 500ms to view the corner detection\n",
        "\n",
        "cv2.destroyAllWindows()\n",
        "\n",
        "# Camera calibration using the found corners\n",
        "ret, mtx, dist, rvecs, tvecs = cv2.calibrateCamera(objpoints, imgpoints, gray.shape[::-1], None, None)\n",
        "\n",
        "# Save the calibration data to a file for future use\n",
        "calibration_data = {\n",
        "    'camera_matrix': mtx,\n",
        "    'distortion_coefficients': dist,\n",
        "    'rotation_vectors': rvecs,\n",
        "    'translation_vectors': tvecs\n",
        "}\n",
        "\n",
        "with open('camera_calibration_data.pkl', 'wb') as f:\n",
        "    pickle.dump(calibration_data, f)\n",
        "\n",
        "print(\"Camera calibration complete and data saved.\")\n"
      ]
    },
    {
      "cell_type": "code",
      "execution_count": 17,
      "metadata": {
        "id": "7ljp_ZEvJflT"
      },
      "outputs": [
        {
          "name": "stdout",
          "output_type": "stream",
          "text": [
            "Error: No faces were detected in the images.\n",
            "Camera started. Press 'q' to quit.\n",
            "Error: Failed to capture image from camera.\n"
          ]
        }
      ],
      "source": [
        "import cv2\n",
        "import os\n",
        "import numpy as np\n",
        "import pickle\n",
        "\n",
        "# Load the calibration data from the previous step\n",
        "with open('camera_calibration_data.pkl', 'rb') as f:\n",
        "    calibration_data = pickle.load(f)\n",
        "\n",
        "camera_matrix = calibration_data['camera_matrix']\n",
        "distortion_coefficients = calibration_data['distortion_coefficients']\n",
        "\n",
        "# Initialize face recognizer (LBPH)\n",
        "recognizer = cv2.face.LBPHFaceRecognizer_create()\n",
        "\n",
        "# Path to the 'photoss' folder containing user images\n",
        "data_path = '/Users/marwaelamrawy/Desktop/photoss'\n",
        "\n",
        "# Load known face encodings (user images)\n",
        "faces = []\n",
        "labels = []\n",
        "label_map = {}\n",
        "current_label = 0\n",
        "\n",
        "# Face detection cascade\n",
        "haar_cascade_path = '/Users/marwaelamrawy/Desktop/haarcascade_frontalface_default.xml'  # Update this path if necessary\n",
        "face_cascade = cv2.CascadeClassifier(haar_cascade_path)\n",
        "\n",
        "# Load images from 'photoss' directory and train the recognizer\n",
        "for user in os.listdir(data_path):\n",
        "    user_path = os.path.join(data_path, user)\n",
        "    if not os.path.isdir(user_path):\n",
        "        continue\n",
        "    label_map[current_label] = user\n",
        "    for img_name in os.listdir(user_path):\n",
        "        img_path = os.path.join(user_path, img_name)\n",
        "        img = cv2.imread(img_path)\n",
        "        if img is None:\n",
        "            print(f\"Warning: Could not load image {img_path}\")\n",
        "            continue\n",
        "\n",
        "        gray = cv2.cvtColor(img, cv2.COLOR_BGR2GRAY)\n",
        "        faces_rect = face_cascade.detectMultiScale(gray, 1.3, 5)\n",
        "        \n",
        "        if len(faces_rect) == 0:\n",
        "            print(f\"No faces detected in image: {img_path}\")\n",
        "            continue  # Skip this image if no faces are detected\n",
        "\n",
        "        for (x, y, w, h) in faces_rect:\n",
        "            face = gray[y:y+h, x:x+w]\n",
        "            faces.append(face)\n",
        "            labels.append(current_label)\n",
        "    \n",
        "    current_label += 1\n",
        "\n",
        "# Ensure faces and labels have data before training\n",
        "if len(faces) == 0 or len(labels) == 0:\n",
        "    print(\"Error: No faces were detected in the images.\")\n",
        "else:\n",
        "    # Train the face recognizer with the loaded faces and labels\n",
        "    recognizer.train(faces, np.array(labels))\n",
        "    print(f\"Training complete. {len(faces)} faces used.\")\n",
        "\n",
        "# Open the camera for live feed\n",
        "cap = cv2.VideoCapture(0)\n",
        "\n",
        "# Check if the camera opened successfully\n",
        "if not cap.isOpened():\n",
        "    print(\"Error: Camera not found or unable to open.\")\n",
        "else:\n",
        "    print(\"Camera started. Press 'q' to quit.\")\n",
        "\n",
        "while True:\n",
        "    ret, frame = cap.read()\n",
        "    if not ret:\n",
        "        print(\"Error: Failed to capture image from camera.\")\n",
        "        break\n",
        "\n",
        "    # Undistort the frame using the calibration data\n",
        "    frame = cv2.undistort(frame, camera_matrix, distortion_coefficients)\n",
        "\n",
        "    # Convert the frame to grayscale\n",
        "    gray = cv2.cvtColor(frame, cv2.COLOR_BGR2GRAY)\n",
        "\n",
        "    # Detect faces in the live feed\n",
        "    faces_rect = face_cascade.detectMultiScale(gray, 1.3, 5)\n",
        "\n",
        "    for (x, y, w, h) in faces_rect:\n",
        "        face = gray[y:y+h, x:x+w]\n",
        "        label, confidence = recognizer.predict(face)\n",
        "\n",
        "        name = label_map.get(label, \"Unknown\")\n",
        "        cv2.rectangle(frame, (x, y), (x+w, y+h), (0, 255, 0), 2)\n",
        "        cv2.putText(frame, f\"{name} ({int(confidence)})\", (x, y - 10),\n",
        "                    cv2.FONT_HERSHEY_SIMPLEX, 0.9, (255, 255, 255), 2)\n",
        "\n",
        "    # Display the live frame\n",
        "    cv2.imshow('User Authentication', frame)\n",
        "\n",
        "    # Quit on 'q' key\n",
        "    if cv2.waitKey(1) & 0xFF == ord('q'):\n",
        "        break\n",
        "\n",
        "cap.release()\n",
        "cv2.destroyAllWindows()\n"
      ]
    }
  ],
  "metadata": {
    "colab": {
      "provenance": []
    },
    "kernelspec": {
      "display_name": "face_env",
      "language": "python",
      "name": "python3"
    },
    "language_info": {
      "codemirror_mode": {
        "name": "ipython",
        "version": 3
      },
      "file_extension": ".py",
      "mimetype": "text/x-python",
      "name": "python",
      "nbconvert_exporter": "python",
      "pygments_lexer": "ipython3",
      "version": "3.10.13"
    }
  },
  "nbformat": 4,
  "nbformat_minor": 0
}
